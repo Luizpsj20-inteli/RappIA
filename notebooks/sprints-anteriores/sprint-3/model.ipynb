{
  "cells": [
    {
      "cell_type": "markdown",
      "metadata": {
        "id": "ZjKBwmSnSMmq"
      },
      "source": [
        "# Importar a tabela com as features e rótulos"
      ]
    },
    {
      "cell_type": "markdown",
      "metadata": {
        "id": "GrlId2ZHIoDF"
      },
      "source": [
        "**Importante**: para rodar esse notebook, é necessário criar um atalho na raiz do seu Google Drive para a pasta do Grupo 1 no Google Drive da sala e ter as permissões de acesso adequadas. Siga o passo a passo no notebook [neste link](https://colab.research.google.com/drive/1gcgucA_kH5xj9dncwh1sUfaLRROkbm3G#scrollTo=GJe2F3xyOayd), substituindo a pasta \"Base\" por \"Grupo 1 - RappiIA\" "
      ]
    },
    {
      "cell_type": "code",
      "execution_count": null,
      "metadata": {
        "colab": {
          "base_uri": "https://localhost:8080/"
        },
        "id": "jzIpcUpIEVj1",
        "outputId": "a4111f3a-4e7f-4524-cb54-b9ae876e8e53"
      },
      "outputs": [
        {
          "output_type": "stream",
          "name": "stdout",
          "text": [
            "Drive already mounted at /content/drive; to attempt to forcibly remount, call drive.mount(\"/content/drive\", force_remount=True).\n"
          ]
        }
      ],
      "source": [
        "from google.colab import drive\n",
        "drive.mount('/content/drive')"
      ]
    },
    {
      "cell_type": "code",
      "execution_count": null,
      "metadata": {
        "colab": {
          "base_uri": "https://localhost:8080/",
          "height": 488
        },
        "id": "yBD2qvxNSMMc",
        "outputId": "f2509f82-e15f-4eb1-a114-e5d53749476d"
      },
      "outputs": [
        {
          "output_type": "execute_result",
          "data": {
            "text/plain": [
              "             ID  IS_CHURN  LEVEL_NAME  AUTO_ACCEPT  ACCEPTANCE_RATE  \\\n",
              "0       1552668     False           1         True          1.00000   \n",
              "1       1552649     False           3         True          0.77800   \n",
              "2       1552604     False           2         True          1.00000   \n",
              "3       1552588     False           4         True          0.00000   \n",
              "4       1552553     False           1         True          0.88870   \n",
              "...         ...       ...         ...          ...              ...   \n",
              "159523    33189      True           2         True          0.16240   \n",
              "159524    33188      True           0        False          0.89450   \n",
              "159525    33161      True           2        False          0.45120   \n",
              "159526    33051      True           2         True          0.80570   \n",
              "159527    32818      True           1        False          0.02777   \n",
              "\n",
              "        ORDERS_DONE  ORDERS_LAST_30D_COUNT  ORDERS_CANCEL  \\\n",
              "0                 0                      4              1   \n",
              "1                 4                    122              1   \n",
              "2                 3                     57              0   \n",
              "3                 1                     59              0   \n",
              "4                 3                      9              0   \n",
              "...             ...                    ...            ...   \n",
              "159523          396                      0             17   \n",
              "159524           12                      0              1   \n",
              "159525         2625                      4             55   \n",
              "159526         2311                      0             49   \n",
              "159527            3                      0              0   \n",
              "\n",
              "        ORDERS_CANCELED_LAST_30D_COUNT  FIRST_ORDER_DATE  ...  \\\n",
              "0                                    0            738354  ...   \n",
              "1                                    2            738353  ...   \n",
              "2                                    1            738353  ...   \n",
              "3                                    2            738354  ...   \n",
              "4                                    0            738353  ...   \n",
              "...                                ...               ...  ...   \n",
              "159523                               0            738005  ...   \n",
              "159524                               0            738089  ...   \n",
              "159525                               1            738003  ...   \n",
              "159526                               0            738089  ...   \n",
              "159527                               0            738078  ...   \n",
              "\n",
              "        PRODUCT_RETURNS  SUPPORT_TICKET_COUNT  DEFECTS_COUNT  \\\n",
              "0                 0.000                     0              2   \n",
              "1                 0.000                     0              8   \n",
              "2                 0.000                     0              9   \n",
              "3                 0.000                     0              7   \n",
              "4                 0.000                     0              5   \n",
              "...                 ...                   ...            ...   \n",
              "159523           -2.145                   101            105   \n",
              "159524            0.000                    57              3   \n",
              "159525          -72.440                     0            227   \n",
              "159526           -0.025                    28            104   \n",
              "159527            0.000                     0              3   \n",
              "\n",
              "        AVG_DISTANCE_TO_USER  TRANSPORT_bicycle  TRANSPORT_car  \\\n",
              "0                   3.765437                  0              0   \n",
              "1                   4.014581                  0              0   \n",
              "2                   1.517087                  1              0   \n",
              "3                   2.256725                  0              1   \n",
              "4                   2.736529                  0              1   \n",
              "...                      ...                ...            ...   \n",
              "159523              2.074419                  0              1   \n",
              "159524              4.168917                  0              0   \n",
              "159525              3.668000                  0              0   \n",
              "159526              1.318292                  1              0   \n",
              "159527              1.623436                  0              0   \n",
              "\n",
              "        TRANSPORT_motorbike  TRANSPORT_neither  TRANSPORT_cargo_van  \\\n",
              "0                         1                  0                    0   \n",
              "1                         1                  0                    0   \n",
              "2                         0                  0                    0   \n",
              "3                         0                  0                    0   \n",
              "4                         0                  0                    0   \n",
              "...                     ...                ...                  ...   \n",
              "159523                    0                  0                    0   \n",
              "159524                    1                  0                    0   \n",
              "159525                    1                  0                    0   \n",
              "159526                    0                  0                    0   \n",
              "159527                    1                  0                    0   \n",
              "\n",
              "        TRANSPORT_motorbike_trailer  \n",
              "0                                 0  \n",
              "1                                 0  \n",
              "2                                 0  \n",
              "3                                 0  \n",
              "4                                 0  \n",
              "...                             ...  \n",
              "159523                            0  \n",
              "159524                            0  \n",
              "159525                            0  \n",
              "159526                            0  \n",
              "159527                            0  \n",
              "\n",
              "[159528 rows x 24 columns]"
            ],
            "text/html": [
              "\n",
              "  <div id=\"df-d1776e60-8dea-40e0-bed5-5c12ef95dda7\">\n",
              "    <div class=\"colab-df-container\">\n",
              "      <div>\n",
              "<style scoped>\n",
              "    .dataframe tbody tr th:only-of-type {\n",
              "        vertical-align: middle;\n",
              "    }\n",
              "\n",
              "    .dataframe tbody tr th {\n",
              "        vertical-align: top;\n",
              "    }\n",
              "\n",
              "    .dataframe thead th {\n",
              "        text-align: right;\n",
              "    }\n",
              "</style>\n",
              "<table border=\"1\" class=\"dataframe\">\n",
              "  <thead>\n",
              "    <tr style=\"text-align: right;\">\n",
              "      <th></th>\n",
              "      <th>ID</th>\n",
              "      <th>IS_CHURN</th>\n",
              "      <th>LEVEL_NAME</th>\n",
              "      <th>AUTO_ACCEPT</th>\n",
              "      <th>ACCEPTANCE_RATE</th>\n",
              "      <th>ORDERS_DONE</th>\n",
              "      <th>ORDERS_LAST_30D_COUNT</th>\n",
              "      <th>ORDERS_CANCEL</th>\n",
              "      <th>ORDERS_CANCELED_LAST_30D_COUNT</th>\n",
              "      <th>FIRST_ORDER_DATE</th>\n",
              "      <th>...</th>\n",
              "      <th>PRODUCT_RETURNS</th>\n",
              "      <th>SUPPORT_TICKET_COUNT</th>\n",
              "      <th>DEFECTS_COUNT</th>\n",
              "      <th>AVG_DISTANCE_TO_USER</th>\n",
              "      <th>TRANSPORT_bicycle</th>\n",
              "      <th>TRANSPORT_car</th>\n",
              "      <th>TRANSPORT_motorbike</th>\n",
              "      <th>TRANSPORT_neither</th>\n",
              "      <th>TRANSPORT_cargo_van</th>\n",
              "      <th>TRANSPORT_motorbike_trailer</th>\n",
              "    </tr>\n",
              "  </thead>\n",
              "  <tbody>\n",
              "    <tr>\n",
              "      <th>0</th>\n",
              "      <td>1552668</td>\n",
              "      <td>False</td>\n",
              "      <td>1</td>\n",
              "      <td>True</td>\n",
              "      <td>1.00000</td>\n",
              "      <td>0</td>\n",
              "      <td>4</td>\n",
              "      <td>1</td>\n",
              "      <td>0</td>\n",
              "      <td>738354</td>\n",
              "      <td>...</td>\n",
              "      <td>0.000</td>\n",
              "      <td>0</td>\n",
              "      <td>2</td>\n",
              "      <td>3.765437</td>\n",
              "      <td>0</td>\n",
              "      <td>0</td>\n",
              "      <td>1</td>\n",
              "      <td>0</td>\n",
              "      <td>0</td>\n",
              "      <td>0</td>\n",
              "    </tr>\n",
              "    <tr>\n",
              "      <th>1</th>\n",
              "      <td>1552649</td>\n",
              "      <td>False</td>\n",
              "      <td>3</td>\n",
              "      <td>True</td>\n",
              "      <td>0.77800</td>\n",
              "      <td>4</td>\n",
              "      <td>122</td>\n",
              "      <td>1</td>\n",
              "      <td>2</td>\n",
              "      <td>738353</td>\n",
              "      <td>...</td>\n",
              "      <td>0.000</td>\n",
              "      <td>0</td>\n",
              "      <td>8</td>\n",
              "      <td>4.014581</td>\n",
              "      <td>0</td>\n",
              "      <td>0</td>\n",
              "      <td>1</td>\n",
              "      <td>0</td>\n",
              "      <td>0</td>\n",
              "      <td>0</td>\n",
              "    </tr>\n",
              "    <tr>\n",
              "      <th>2</th>\n",
              "      <td>1552604</td>\n",
              "      <td>False</td>\n",
              "      <td>2</td>\n",
              "      <td>True</td>\n",
              "      <td>1.00000</td>\n",
              "      <td>3</td>\n",
              "      <td>57</td>\n",
              "      <td>0</td>\n",
              "      <td>1</td>\n",
              "      <td>738353</td>\n",
              "      <td>...</td>\n",
              "      <td>0.000</td>\n",
              "      <td>0</td>\n",
              "      <td>9</td>\n",
              "      <td>1.517087</td>\n",
              "      <td>1</td>\n",
              "      <td>0</td>\n",
              "      <td>0</td>\n",
              "      <td>0</td>\n",
              "      <td>0</td>\n",
              "      <td>0</td>\n",
              "    </tr>\n",
              "    <tr>\n",
              "      <th>3</th>\n",
              "      <td>1552588</td>\n",
              "      <td>False</td>\n",
              "      <td>4</td>\n",
              "      <td>True</td>\n",
              "      <td>0.00000</td>\n",
              "      <td>1</td>\n",
              "      <td>59</td>\n",
              "      <td>0</td>\n",
              "      <td>2</td>\n",
              "      <td>738354</td>\n",
              "      <td>...</td>\n",
              "      <td>0.000</td>\n",
              "      <td>0</td>\n",
              "      <td>7</td>\n",
              "      <td>2.256725</td>\n",
              "      <td>0</td>\n",
              "      <td>1</td>\n",
              "      <td>0</td>\n",
              "      <td>0</td>\n",
              "      <td>0</td>\n",
              "      <td>0</td>\n",
              "    </tr>\n",
              "    <tr>\n",
              "      <th>4</th>\n",
              "      <td>1552553</td>\n",
              "      <td>False</td>\n",
              "      <td>1</td>\n",
              "      <td>True</td>\n",
              "      <td>0.88870</td>\n",
              "      <td>3</td>\n",
              "      <td>9</td>\n",
              "      <td>0</td>\n",
              "      <td>0</td>\n",
              "      <td>738353</td>\n",
              "      <td>...</td>\n",
              "      <td>0.000</td>\n",
              "      <td>0</td>\n",
              "      <td>5</td>\n",
              "      <td>2.736529</td>\n",
              "      <td>0</td>\n",
              "      <td>1</td>\n",
              "      <td>0</td>\n",
              "      <td>0</td>\n",
              "      <td>0</td>\n",
              "      <td>0</td>\n",
              "    </tr>\n",
              "    <tr>\n",
              "      <th>...</th>\n",
              "      <td>...</td>\n",
              "      <td>...</td>\n",
              "      <td>...</td>\n",
              "      <td>...</td>\n",
              "      <td>...</td>\n",
              "      <td>...</td>\n",
              "      <td>...</td>\n",
              "      <td>...</td>\n",
              "      <td>...</td>\n",
              "      <td>...</td>\n",
              "      <td>...</td>\n",
              "      <td>...</td>\n",
              "      <td>...</td>\n",
              "      <td>...</td>\n",
              "      <td>...</td>\n",
              "      <td>...</td>\n",
              "      <td>...</td>\n",
              "      <td>...</td>\n",
              "      <td>...</td>\n",
              "      <td>...</td>\n",
              "      <td>...</td>\n",
              "    </tr>\n",
              "    <tr>\n",
              "      <th>159523</th>\n",
              "      <td>33189</td>\n",
              "      <td>True</td>\n",
              "      <td>2</td>\n",
              "      <td>True</td>\n",
              "      <td>0.16240</td>\n",
              "      <td>396</td>\n",
              "      <td>0</td>\n",
              "      <td>17</td>\n",
              "      <td>0</td>\n",
              "      <td>738005</td>\n",
              "      <td>...</td>\n",
              "      <td>-2.145</td>\n",
              "      <td>101</td>\n",
              "      <td>105</td>\n",
              "      <td>2.074419</td>\n",
              "      <td>0</td>\n",
              "      <td>1</td>\n",
              "      <td>0</td>\n",
              "      <td>0</td>\n",
              "      <td>0</td>\n",
              "      <td>0</td>\n",
              "    </tr>\n",
              "    <tr>\n",
              "      <th>159524</th>\n",
              "      <td>33188</td>\n",
              "      <td>True</td>\n",
              "      <td>0</td>\n",
              "      <td>False</td>\n",
              "      <td>0.89450</td>\n",
              "      <td>12</td>\n",
              "      <td>0</td>\n",
              "      <td>1</td>\n",
              "      <td>0</td>\n",
              "      <td>738089</td>\n",
              "      <td>...</td>\n",
              "      <td>0.000</td>\n",
              "      <td>57</td>\n",
              "      <td>3</td>\n",
              "      <td>4.168917</td>\n",
              "      <td>0</td>\n",
              "      <td>0</td>\n",
              "      <td>1</td>\n",
              "      <td>0</td>\n",
              "      <td>0</td>\n",
              "      <td>0</td>\n",
              "    </tr>\n",
              "    <tr>\n",
              "      <th>159525</th>\n",
              "      <td>33161</td>\n",
              "      <td>True</td>\n",
              "      <td>2</td>\n",
              "      <td>False</td>\n",
              "      <td>0.45120</td>\n",
              "      <td>2625</td>\n",
              "      <td>4</td>\n",
              "      <td>55</td>\n",
              "      <td>1</td>\n",
              "      <td>738003</td>\n",
              "      <td>...</td>\n",
              "      <td>-72.440</td>\n",
              "      <td>0</td>\n",
              "      <td>227</td>\n",
              "      <td>3.668000</td>\n",
              "      <td>0</td>\n",
              "      <td>0</td>\n",
              "      <td>1</td>\n",
              "      <td>0</td>\n",
              "      <td>0</td>\n",
              "      <td>0</td>\n",
              "    </tr>\n",
              "    <tr>\n",
              "      <th>159526</th>\n",
              "      <td>33051</td>\n",
              "      <td>True</td>\n",
              "      <td>2</td>\n",
              "      <td>True</td>\n",
              "      <td>0.80570</td>\n",
              "      <td>2311</td>\n",
              "      <td>0</td>\n",
              "      <td>49</td>\n",
              "      <td>0</td>\n",
              "      <td>738089</td>\n",
              "      <td>...</td>\n",
              "      <td>-0.025</td>\n",
              "      <td>28</td>\n",
              "      <td>104</td>\n",
              "      <td>1.318292</td>\n",
              "      <td>1</td>\n",
              "      <td>0</td>\n",
              "      <td>0</td>\n",
              "      <td>0</td>\n",
              "      <td>0</td>\n",
              "      <td>0</td>\n",
              "    </tr>\n",
              "    <tr>\n",
              "      <th>159527</th>\n",
              "      <td>32818</td>\n",
              "      <td>True</td>\n",
              "      <td>1</td>\n",
              "      <td>False</td>\n",
              "      <td>0.02777</td>\n",
              "      <td>3</td>\n",
              "      <td>0</td>\n",
              "      <td>0</td>\n",
              "      <td>0</td>\n",
              "      <td>738078</td>\n",
              "      <td>...</td>\n",
              "      <td>0.000</td>\n",
              "      <td>0</td>\n",
              "      <td>3</td>\n",
              "      <td>1.623436</td>\n",
              "      <td>0</td>\n",
              "      <td>0</td>\n",
              "      <td>1</td>\n",
              "      <td>0</td>\n",
              "      <td>0</td>\n",
              "      <td>0</td>\n",
              "    </tr>\n",
              "  </tbody>\n",
              "</table>\n",
              "<p>159528 rows × 24 columns</p>\n",
              "</div>\n",
              "      <button class=\"colab-df-convert\" onclick=\"convertToInteractive('df-d1776e60-8dea-40e0-bed5-5c12ef95dda7')\"\n",
              "              title=\"Convert this dataframe to an interactive table.\"\n",
              "              style=\"display:none;\">\n",
              "        \n",
              "  <svg xmlns=\"http://www.w3.org/2000/svg\" height=\"24px\"viewBox=\"0 0 24 24\"\n",
              "       width=\"24px\">\n",
              "    <path d=\"M0 0h24v24H0V0z\" fill=\"none\"/>\n",
              "    <path d=\"M18.56 5.44l.94 2.06.94-2.06 2.06-.94-2.06-.94-.94-2.06-.94 2.06-2.06.94zm-11 1L8.5 8.5l.94-2.06 2.06-.94-2.06-.94L8.5 2.5l-.94 2.06-2.06.94zm10 10l.94 2.06.94-2.06 2.06-.94-2.06-.94-.94-2.06-.94 2.06-2.06.94z\"/><path d=\"M17.41 7.96l-1.37-1.37c-.4-.4-.92-.59-1.43-.59-.52 0-1.04.2-1.43.59L10.3 9.45l-7.72 7.72c-.78.78-.78 2.05 0 2.83L4 21.41c.39.39.9.59 1.41.59.51 0 1.02-.2 1.41-.59l7.78-7.78 2.81-2.81c.8-.78.8-2.07 0-2.86zM5.41 20L4 18.59l7.72-7.72 1.47 1.35L5.41 20z\"/>\n",
              "  </svg>\n",
              "      </button>\n",
              "      \n",
              "  <style>\n",
              "    .colab-df-container {\n",
              "      display:flex;\n",
              "      flex-wrap:wrap;\n",
              "      gap: 12px;\n",
              "    }\n",
              "\n",
              "    .colab-df-convert {\n",
              "      background-color: #E8F0FE;\n",
              "      border: none;\n",
              "      border-radius: 50%;\n",
              "      cursor: pointer;\n",
              "      display: none;\n",
              "      fill: #1967D2;\n",
              "      height: 32px;\n",
              "      padding: 0 0 0 0;\n",
              "      width: 32px;\n",
              "    }\n",
              "\n",
              "    .colab-df-convert:hover {\n",
              "      background-color: #E2EBFA;\n",
              "      box-shadow: 0px 1px 2px rgba(60, 64, 67, 0.3), 0px 1px 3px 1px rgba(60, 64, 67, 0.15);\n",
              "      fill: #174EA6;\n",
              "    }\n",
              "\n",
              "    [theme=dark] .colab-df-convert {\n",
              "      background-color: #3B4455;\n",
              "      fill: #D2E3FC;\n",
              "    }\n",
              "\n",
              "    [theme=dark] .colab-df-convert:hover {\n",
              "      background-color: #434B5C;\n",
              "      box-shadow: 0px 1px 3px 1px rgba(0, 0, 0, 0.15);\n",
              "      filter: drop-shadow(0px 1px 2px rgba(0, 0, 0, 0.3));\n",
              "      fill: #FFFFFF;\n",
              "    }\n",
              "  </style>\n",
              "\n",
              "      <script>\n",
              "        const buttonEl =\n",
              "          document.querySelector('#df-d1776e60-8dea-40e0-bed5-5c12ef95dda7 button.colab-df-convert');\n",
              "        buttonEl.style.display =\n",
              "          google.colab.kernel.accessAllowed ? 'block' : 'none';\n",
              "\n",
              "        async function convertToInteractive(key) {\n",
              "          const element = document.querySelector('#df-d1776e60-8dea-40e0-bed5-5c12ef95dda7');\n",
              "          const dataTable =\n",
              "            await google.colab.kernel.invokeFunction('convertToInteractive',\n",
              "                                                     [key], {});\n",
              "          if (!dataTable) return;\n",
              "\n",
              "          const docLinkHtml = 'Like what you see? Visit the ' +\n",
              "            '<a target=\"_blank\" href=https://colab.research.google.com/notebooks/data_table.ipynb>data table notebook</a>'\n",
              "            + ' to learn more about interactive tables.';\n",
              "          element.innerHTML = '';\n",
              "          dataTable['output_type'] = 'display_data';\n",
              "          await google.colab.output.renderOutput(dataTable, element);\n",
              "          const docLink = document.createElement('div');\n",
              "          docLink.innerHTML = docLinkHtml;\n",
              "          element.appendChild(docLink);\n",
              "        }\n",
              "      </script>\n",
              "    </div>\n",
              "  </div>\n",
              "  "
            ]
          },
          "metadata": {},
          "execution_count": 2
        }
      ],
      "source": [
        "import pandas as pd\n",
        "import numpy as np\n",
        "\n",
        "df_infos = pd.read_csv('/content/drive/MyDrive/Grupo 1 - RappIA /features.csv', index_col=0)\n",
        "df_infos"
      ]
    },
    {
      "cell_type": "markdown",
      "metadata": {
        "id": "5qbUHnhwWYXD"
      },
      "source": [
        "# Separar as features dos rótulos"
      ]
    },
    {
      "cell_type": "code",
      "execution_count": null,
      "metadata": {
        "id": "OJyQcGeaRkWg"
      },
      "outputs": [],
      "source": [
        "from sklearn.model_selection import train_test_split\n",
        "\n",
        "# Dividindo x e y\n",
        "# features que estão com algum problema: X = df_infos[[ 'ORDERS_LAST_30D_COUNT', 'LAST_ORDER_DATE', 'SUPPORT_TICKET_COUNT']]\n",
        "X = df_infos[[\n",
        "              'LEVEL_NAME', \n",
        "              'AUTO_ACCEPT', 'ACCEPTANCE_RATE', \n",
        "              'ORDERS_DONE', \n",
        "              'ORDERS_CANCEL', 'ORDERS_CANCELED_LAST_30D_COUNT', \n",
        "              'FIRST_ORDER_DATE', \n",
        "              'EARNINGS', 'TIPS', \n",
        "              'PUNISHMENT_MINUTES', 'PRODUCT_RETURNS', \n",
        "              'DEFECTS_COUNT', \n",
        "              'AVG_DISTANCE_TO_USER', \n",
        "              'TRANSPORT_bicycle','TRANSPORT_car', 'TRANSPORT_motorbike', 'TRANSPORT_neither', 'TRANSPORT_cargo_van', 'TRANSPORT_motorbike_trailer',\n",
        "            ]]\n",
        "y = df_infos[['IS_CHURN']]\n",
        "\n"
      ]
    },
    {
      "cell_type": "markdown",
      "metadata": {
        "id": "DRpNsQK9uRZ8"
      },
      "source": [
        "# Separar datasets de teste e de treino"
      ]
    },
    {
      "cell_type": "code",
      "execution_count": null,
      "metadata": {
        "id": "5bYqGTKquQ-1"
      },
      "outputs": [],
      "source": [
        "# Dividindo dados para treino e dados para teste\n",
        "x_train, x_test, y_train, y_test = train_test_split(X, y, \n",
        "                                                    test_size = 0.3, \n",
        "                                                    random_state = 42)"
      ]
    },
    {
      "cell_type": "code",
      "execution_count": null,
      "metadata": {
        "colab": {
          "base_uri": "https://localhost:8080/"
        },
        "id": "IxTj6Vj3Fp9p",
        "outputId": "130ed780-9e33-4b9c-9962-9da93bd0b3ec"
      },
      "outputs": [
        {
          "output_type": "execute_result",
          "data": {
            "text/plain": [
              "(111669, 19)"
            ]
          },
          "metadata": {},
          "execution_count": 62
        }
      ],
      "source": [
        "x_train.shape"
      ]
    },
    {
      "cell_type": "code",
      "execution_count": null,
      "metadata": {
        "colab": {
          "base_uri": "https://localhost:8080/"
        },
        "id": "jrOHgCfPFuWV",
        "outputId": "32b07a3a-7a83-4502-dff4-a4edffee80d0"
      },
      "outputs": [
        {
          "output_type": "execute_result",
          "data": {
            "text/plain": [
              "(111669, 1)"
            ]
          },
          "metadata": {},
          "execution_count": 6
        }
      ],
      "source": [
        "y_train.shape"
      ]
    },
    {
      "cell_type": "markdown",
      "metadata": {
        "id": "Rz2wUB_PHbT7"
      },
      "source": [
        "# Normalizar os dados"
      ]
    },
    {
      "cell_type": "code",
      "execution_count": null,
      "metadata": {
        "id": "unjnFqRCWpAj"
      },
      "outputs": [],
      "source": [
        "from sklearn.preprocessing import RobustScaler, StandardScaler\n",
        "scaler = RobustScaler()\n",
        "scaler.fit(x_train)\n",
        "scaler = StandardScaler()\n",
        "scaler.fit(x_train)\n",
        "x_train = scaler.transform(x_train)\n",
        "x_test = scaler.transform(x_test)\n",
        "\n",
        "x_train = pd.DataFrame(x_train, columns = X.columns)\n"
      ]
    },
    {
      "cell_type": "code",
      "source": [
        "x_train"
      ],
      "metadata": {
        "colab": {
          "base_uri": "https://localhost:8080/",
          "height": 488
        },
        "id": "u6HbvVLZCTh6",
        "outputId": "d66a850f-e95d-4df1-c4c7-709e726f0058"
      },
      "execution_count": null,
      "outputs": [
        {
          "output_type": "execute_result",
          "data": {
            "text/plain": [
              "        LEVEL_NAME  AUTO_ACCEPT  ACCEPTANCE_RATE  ORDERS_DONE  ORDERS_CANCEL  \\\n",
              "0         0.298428     0.814950         0.374067     1.351065       1.574274   \n",
              "1         2.669399     0.814950         0.107947     1.791310       0.770385   \n",
              "2         0.298428    -1.227069        -1.320880     0.148757      -0.033504   \n",
              "3         0.298428    -1.227069        -1.105014    -0.389321      -0.435449   \n",
              "4         1.483914     0.814950         0.791713     1.067866       1.976218   \n",
              "...            ...          ...              ...          ...            ...   \n",
              "111664   -2.072543    -1.227069        -1.816952     0.074095      -0.435449   \n",
              "111665    2.669399     0.814950        -0.541554     0.370167       0.207662   \n",
              "111666    0.298428    -1.227069        -1.819998    -0.330107      -0.435449   \n",
              "111667    0.298428     0.814950         0.353889    -0.126718      -0.435449   \n",
              "111668   -0.887057     0.814950         0.955420     0.501468       0.529218   \n",
              "\n",
              "        ORDERS_CANCELED_LAST_30D_COUNT  FIRST_ORDER_DATE  EARNINGS      TIPS  \\\n",
              "0                            -0.273713         -0.052758  0.868478  0.941993   \n",
              "1                             2.698619          0.996134  3.043137  4.297363   \n",
              "2                             0.469370         -0.959428  1.086776  1.349636   \n",
              "3                            -0.273713         -1.119428 -0.332971 -0.389503   \n",
              "4                            -0.273713         -1.074984  1.622125  1.372169   \n",
              "...                                ...               ...       ...       ...   \n",
              "111664                       -0.273713         -0.754983  0.021203  0.325408   \n",
              "111665                        2.698619          0.809466  0.705724  0.989108   \n",
              "111666                       -0.273713          0.053909 -0.218970 -0.291177   \n",
              "111667                       -0.273713         -0.826094 -0.436419 -0.463247   \n",
              "111668                        1.955536          0.391687 -0.387843 -0.467344   \n",
              "\n",
              "        PUNISHMENT_MINUTES  PRODUCT_RETURNS  DEFECTS_COUNT  \\\n",
              "0                -0.271562        -0.113449       0.945891   \n",
              "1                -0.271715         0.206328       1.301935   \n",
              "2                -0.271660         0.206328       1.451849   \n",
              "3                 0.952875         0.206328      -0.272156   \n",
              "4                 7.076610        -1.215676       2.276373   \n",
              "...                    ...              ...            ...   \n",
              "111664           -0.271766         0.206328       0.346237   \n",
              "111665           -0.271708         0.206328       0.514889   \n",
              "111666            0.952852        -5.273589      -0.234678   \n",
              "111667           -0.271806         0.206328      -0.515766   \n",
              "111668           -0.271795         0.206328      -0.497027   \n",
              "\n",
              "        AVG_DISTANCE_TO_USER  TRANSPORT_bicycle  TRANSPORT_car  \\\n",
              "0                  -0.143058          -0.716403      -0.470078   \n",
              "1                   0.788619          -0.716403      -0.470078   \n",
              "2                   0.673564          -0.716403       2.127307   \n",
              "3                   0.234809          -0.716403       2.127307   \n",
              "4                  -0.735060           1.395863      -0.470078   \n",
              "...                      ...                ...            ...   \n",
              "111664             -0.844376          -0.716403      -0.470078   \n",
              "111665              0.162522          -0.716403      -0.470078   \n",
              "111666             -0.364837          -0.716403       2.127307   \n",
              "111667             -0.279941          -0.716403      -0.470078   \n",
              "111668              0.194962           1.395863      -0.470078   \n",
              "\n",
              "        TRANSPORT_motorbike  TRANSPORT_neither  TRANSPORT_cargo_van  \\\n",
              "0                  1.041339          -0.008464            -0.002993   \n",
              "1                  1.041339          -0.008464            -0.002993   \n",
              "2                 -0.960302          -0.008464            -0.002993   \n",
              "3                 -0.960302          -0.008464            -0.002993   \n",
              "4                 -0.960302          -0.008464            -0.002993   \n",
              "...                     ...                ...                  ...   \n",
              "111664             1.041339          -0.008464            -0.002993   \n",
              "111665             1.041339          -0.008464            -0.002993   \n",
              "111666            -0.960302          -0.008464            -0.002993   \n",
              "111667             1.041339          -0.008464            -0.002993   \n",
              "111668            -0.960302          -0.008464            -0.002993   \n",
              "\n",
              "        TRANSPORT_motorbike_trailer  \n",
              "0                         -0.004232  \n",
              "1                         -0.004232  \n",
              "2                         -0.004232  \n",
              "3                         -0.004232  \n",
              "4                         -0.004232  \n",
              "...                             ...  \n",
              "111664                    -0.004232  \n",
              "111665                    -0.004232  \n",
              "111666                    -0.004232  \n",
              "111667                    -0.004232  \n",
              "111668                    -0.004232  \n",
              "\n",
              "[111669 rows x 19 columns]"
            ],
            "text/html": [
              "\n",
              "  <div id=\"df-0a5f39d0-6fce-4192-9354-b69d22f87925\">\n",
              "    <div class=\"colab-df-container\">\n",
              "      <div>\n",
              "<style scoped>\n",
              "    .dataframe tbody tr th:only-of-type {\n",
              "        vertical-align: middle;\n",
              "    }\n",
              "\n",
              "    .dataframe tbody tr th {\n",
              "        vertical-align: top;\n",
              "    }\n",
              "\n",
              "    .dataframe thead th {\n",
              "        text-align: right;\n",
              "    }\n",
              "</style>\n",
              "<table border=\"1\" class=\"dataframe\">\n",
              "  <thead>\n",
              "    <tr style=\"text-align: right;\">\n",
              "      <th></th>\n",
              "      <th>LEVEL_NAME</th>\n",
              "      <th>AUTO_ACCEPT</th>\n",
              "      <th>ACCEPTANCE_RATE</th>\n",
              "      <th>ORDERS_DONE</th>\n",
              "      <th>ORDERS_CANCEL</th>\n",
              "      <th>ORDERS_CANCELED_LAST_30D_COUNT</th>\n",
              "      <th>FIRST_ORDER_DATE</th>\n",
              "      <th>EARNINGS</th>\n",
              "      <th>TIPS</th>\n",
              "      <th>PUNISHMENT_MINUTES</th>\n",
              "      <th>PRODUCT_RETURNS</th>\n",
              "      <th>DEFECTS_COUNT</th>\n",
              "      <th>AVG_DISTANCE_TO_USER</th>\n",
              "      <th>TRANSPORT_bicycle</th>\n",
              "      <th>TRANSPORT_car</th>\n",
              "      <th>TRANSPORT_motorbike</th>\n",
              "      <th>TRANSPORT_neither</th>\n",
              "      <th>TRANSPORT_cargo_van</th>\n",
              "      <th>TRANSPORT_motorbike_trailer</th>\n",
              "    </tr>\n",
              "  </thead>\n",
              "  <tbody>\n",
              "    <tr>\n",
              "      <th>0</th>\n",
              "      <td>0.298428</td>\n",
              "      <td>0.814950</td>\n",
              "      <td>0.374067</td>\n",
              "      <td>1.351065</td>\n",
              "      <td>1.574274</td>\n",
              "      <td>-0.273713</td>\n",
              "      <td>-0.052758</td>\n",
              "      <td>0.868478</td>\n",
              "      <td>0.941993</td>\n",
              "      <td>-0.271562</td>\n",
              "      <td>-0.113449</td>\n",
              "      <td>0.945891</td>\n",
              "      <td>-0.143058</td>\n",
              "      <td>-0.716403</td>\n",
              "      <td>-0.470078</td>\n",
              "      <td>1.041339</td>\n",
              "      <td>-0.008464</td>\n",
              "      <td>-0.002993</td>\n",
              "      <td>-0.004232</td>\n",
              "    </tr>\n",
              "    <tr>\n",
              "      <th>1</th>\n",
              "      <td>2.669399</td>\n",
              "      <td>0.814950</td>\n",
              "      <td>0.107947</td>\n",
              "      <td>1.791310</td>\n",
              "      <td>0.770385</td>\n",
              "      <td>2.698619</td>\n",
              "      <td>0.996134</td>\n",
              "      <td>3.043137</td>\n",
              "      <td>4.297363</td>\n",
              "      <td>-0.271715</td>\n",
              "      <td>0.206328</td>\n",
              "      <td>1.301935</td>\n",
              "      <td>0.788619</td>\n",
              "      <td>-0.716403</td>\n",
              "      <td>-0.470078</td>\n",
              "      <td>1.041339</td>\n",
              "      <td>-0.008464</td>\n",
              "      <td>-0.002993</td>\n",
              "      <td>-0.004232</td>\n",
              "    </tr>\n",
              "    <tr>\n",
              "      <th>2</th>\n",
              "      <td>0.298428</td>\n",
              "      <td>-1.227069</td>\n",
              "      <td>-1.320880</td>\n",
              "      <td>0.148757</td>\n",
              "      <td>-0.033504</td>\n",
              "      <td>0.469370</td>\n",
              "      <td>-0.959428</td>\n",
              "      <td>1.086776</td>\n",
              "      <td>1.349636</td>\n",
              "      <td>-0.271660</td>\n",
              "      <td>0.206328</td>\n",
              "      <td>1.451849</td>\n",
              "      <td>0.673564</td>\n",
              "      <td>-0.716403</td>\n",
              "      <td>2.127307</td>\n",
              "      <td>-0.960302</td>\n",
              "      <td>-0.008464</td>\n",
              "      <td>-0.002993</td>\n",
              "      <td>-0.004232</td>\n",
              "    </tr>\n",
              "    <tr>\n",
              "      <th>3</th>\n",
              "      <td>0.298428</td>\n",
              "      <td>-1.227069</td>\n",
              "      <td>-1.105014</td>\n",
              "      <td>-0.389321</td>\n",
              "      <td>-0.435449</td>\n",
              "      <td>-0.273713</td>\n",
              "      <td>-1.119428</td>\n",
              "      <td>-0.332971</td>\n",
              "      <td>-0.389503</td>\n",
              "      <td>0.952875</td>\n",
              "      <td>0.206328</td>\n",
              "      <td>-0.272156</td>\n",
              "      <td>0.234809</td>\n",
              "      <td>-0.716403</td>\n",
              "      <td>2.127307</td>\n",
              "      <td>-0.960302</td>\n",
              "      <td>-0.008464</td>\n",
              "      <td>-0.002993</td>\n",
              "      <td>-0.004232</td>\n",
              "    </tr>\n",
              "    <tr>\n",
              "      <th>4</th>\n",
              "      <td>1.483914</td>\n",
              "      <td>0.814950</td>\n",
              "      <td>0.791713</td>\n",
              "      <td>1.067866</td>\n",
              "      <td>1.976218</td>\n",
              "      <td>-0.273713</td>\n",
              "      <td>-1.074984</td>\n",
              "      <td>1.622125</td>\n",
              "      <td>1.372169</td>\n",
              "      <td>7.076610</td>\n",
              "      <td>-1.215676</td>\n",
              "      <td>2.276373</td>\n",
              "      <td>-0.735060</td>\n",
              "      <td>1.395863</td>\n",
              "      <td>-0.470078</td>\n",
              "      <td>-0.960302</td>\n",
              "      <td>-0.008464</td>\n",
              "      <td>-0.002993</td>\n",
              "      <td>-0.004232</td>\n",
              "    </tr>\n",
              "    <tr>\n",
              "      <th>...</th>\n",
              "      <td>...</td>\n",
              "      <td>...</td>\n",
              "      <td>...</td>\n",
              "      <td>...</td>\n",
              "      <td>...</td>\n",
              "      <td>...</td>\n",
              "      <td>...</td>\n",
              "      <td>...</td>\n",
              "      <td>...</td>\n",
              "      <td>...</td>\n",
              "      <td>...</td>\n",
              "      <td>...</td>\n",
              "      <td>...</td>\n",
              "      <td>...</td>\n",
              "      <td>...</td>\n",
              "      <td>...</td>\n",
              "      <td>...</td>\n",
              "      <td>...</td>\n",
              "      <td>...</td>\n",
              "    </tr>\n",
              "    <tr>\n",
              "      <th>111664</th>\n",
              "      <td>-2.072543</td>\n",
              "      <td>-1.227069</td>\n",
              "      <td>-1.816952</td>\n",
              "      <td>0.074095</td>\n",
              "      <td>-0.435449</td>\n",
              "      <td>-0.273713</td>\n",
              "      <td>-0.754983</td>\n",
              "      <td>0.021203</td>\n",
              "      <td>0.325408</td>\n",
              "      <td>-0.271766</td>\n",
              "      <td>0.206328</td>\n",
              "      <td>0.346237</td>\n",
              "      <td>-0.844376</td>\n",
              "      <td>-0.716403</td>\n",
              "      <td>-0.470078</td>\n",
              "      <td>1.041339</td>\n",
              "      <td>-0.008464</td>\n",
              "      <td>-0.002993</td>\n",
              "      <td>-0.004232</td>\n",
              "    </tr>\n",
              "    <tr>\n",
              "      <th>111665</th>\n",
              "      <td>2.669399</td>\n",
              "      <td>0.814950</td>\n",
              "      <td>-0.541554</td>\n",
              "      <td>0.370167</td>\n",
              "      <td>0.207662</td>\n",
              "      <td>2.698619</td>\n",
              "      <td>0.809466</td>\n",
              "      <td>0.705724</td>\n",
              "      <td>0.989108</td>\n",
              "      <td>-0.271708</td>\n",
              "      <td>0.206328</td>\n",
              "      <td>0.514889</td>\n",
              "      <td>0.162522</td>\n",
              "      <td>-0.716403</td>\n",
              "      <td>-0.470078</td>\n",
              "      <td>1.041339</td>\n",
              "      <td>-0.008464</td>\n",
              "      <td>-0.002993</td>\n",
              "      <td>-0.004232</td>\n",
              "    </tr>\n",
              "    <tr>\n",
              "      <th>111666</th>\n",
              "      <td>0.298428</td>\n",
              "      <td>-1.227069</td>\n",
              "      <td>-1.819998</td>\n",
              "      <td>-0.330107</td>\n",
              "      <td>-0.435449</td>\n",
              "      <td>-0.273713</td>\n",
              "      <td>0.053909</td>\n",
              "      <td>-0.218970</td>\n",
              "      <td>-0.291177</td>\n",
              "      <td>0.952852</td>\n",
              "      <td>-5.273589</td>\n",
              "      <td>-0.234678</td>\n",
              "      <td>-0.364837</td>\n",
              "      <td>-0.716403</td>\n",
              "      <td>2.127307</td>\n",
              "      <td>-0.960302</td>\n",
              "      <td>-0.008464</td>\n",
              "      <td>-0.002993</td>\n",
              "      <td>-0.004232</td>\n",
              "    </tr>\n",
              "    <tr>\n",
              "      <th>111667</th>\n",
              "      <td>0.298428</td>\n",
              "      <td>0.814950</td>\n",
              "      <td>0.353889</td>\n",
              "      <td>-0.126718</td>\n",
              "      <td>-0.435449</td>\n",
              "      <td>-0.273713</td>\n",
              "      <td>-0.826094</td>\n",
              "      <td>-0.436419</td>\n",
              "      <td>-0.463247</td>\n",
              "      <td>-0.271806</td>\n",
              "      <td>0.206328</td>\n",
              "      <td>-0.515766</td>\n",
              "      <td>-0.279941</td>\n",
              "      <td>-0.716403</td>\n",
              "      <td>-0.470078</td>\n",
              "      <td>1.041339</td>\n",
              "      <td>-0.008464</td>\n",
              "      <td>-0.002993</td>\n",
              "      <td>-0.004232</td>\n",
              "    </tr>\n",
              "    <tr>\n",
              "      <th>111668</th>\n",
              "      <td>-0.887057</td>\n",
              "      <td>0.814950</td>\n",
              "      <td>0.955420</td>\n",
              "      <td>0.501468</td>\n",
              "      <td>0.529218</td>\n",
              "      <td>1.955536</td>\n",
              "      <td>0.391687</td>\n",
              "      <td>-0.387843</td>\n",
              "      <td>-0.467344</td>\n",
              "      <td>-0.271795</td>\n",
              "      <td>0.206328</td>\n",
              "      <td>-0.497027</td>\n",
              "      <td>0.194962</td>\n",
              "      <td>1.395863</td>\n",
              "      <td>-0.470078</td>\n",
              "      <td>-0.960302</td>\n",
              "      <td>-0.008464</td>\n",
              "      <td>-0.002993</td>\n",
              "      <td>-0.004232</td>\n",
              "    </tr>\n",
              "  </tbody>\n",
              "</table>\n",
              "<p>111669 rows × 19 columns</p>\n",
              "</div>\n",
              "      <button class=\"colab-df-convert\" onclick=\"convertToInteractive('df-0a5f39d0-6fce-4192-9354-b69d22f87925')\"\n",
              "              title=\"Convert this dataframe to an interactive table.\"\n",
              "              style=\"display:none;\">\n",
              "        \n",
              "  <svg xmlns=\"http://www.w3.org/2000/svg\" height=\"24px\"viewBox=\"0 0 24 24\"\n",
              "       width=\"24px\">\n",
              "    <path d=\"M0 0h24v24H0V0z\" fill=\"none\"/>\n",
              "    <path d=\"M18.56 5.44l.94 2.06.94-2.06 2.06-.94-2.06-.94-.94-2.06-.94 2.06-2.06.94zm-11 1L8.5 8.5l.94-2.06 2.06-.94-2.06-.94L8.5 2.5l-.94 2.06-2.06.94zm10 10l.94 2.06.94-2.06 2.06-.94-2.06-.94-.94-2.06-.94 2.06-2.06.94z\"/><path d=\"M17.41 7.96l-1.37-1.37c-.4-.4-.92-.59-1.43-.59-.52 0-1.04.2-1.43.59L10.3 9.45l-7.72 7.72c-.78.78-.78 2.05 0 2.83L4 21.41c.39.39.9.59 1.41.59.51 0 1.02-.2 1.41-.59l7.78-7.78 2.81-2.81c.8-.78.8-2.07 0-2.86zM5.41 20L4 18.59l7.72-7.72 1.47 1.35L5.41 20z\"/>\n",
              "  </svg>\n",
              "      </button>\n",
              "      \n",
              "  <style>\n",
              "    .colab-df-container {\n",
              "      display:flex;\n",
              "      flex-wrap:wrap;\n",
              "      gap: 12px;\n",
              "    }\n",
              "\n",
              "    .colab-df-convert {\n",
              "      background-color: #E8F0FE;\n",
              "      border: none;\n",
              "      border-radius: 50%;\n",
              "      cursor: pointer;\n",
              "      display: none;\n",
              "      fill: #1967D2;\n",
              "      height: 32px;\n",
              "      padding: 0 0 0 0;\n",
              "      width: 32px;\n",
              "    }\n",
              "\n",
              "    .colab-df-convert:hover {\n",
              "      background-color: #E2EBFA;\n",
              "      box-shadow: 0px 1px 2px rgba(60, 64, 67, 0.3), 0px 1px 3px 1px rgba(60, 64, 67, 0.15);\n",
              "      fill: #174EA6;\n",
              "    }\n",
              "\n",
              "    [theme=dark] .colab-df-convert {\n",
              "      background-color: #3B4455;\n",
              "      fill: #D2E3FC;\n",
              "    }\n",
              "\n",
              "    [theme=dark] .colab-df-convert:hover {\n",
              "      background-color: #434B5C;\n",
              "      box-shadow: 0px 1px 3px 1px rgba(0, 0, 0, 0.15);\n",
              "      filter: drop-shadow(0px 1px 2px rgba(0, 0, 0, 0.3));\n",
              "      fill: #FFFFFF;\n",
              "    }\n",
              "  </style>\n",
              "\n",
              "      <script>\n",
              "        const buttonEl =\n",
              "          document.querySelector('#df-0a5f39d0-6fce-4192-9354-b69d22f87925 button.colab-df-convert');\n",
              "        buttonEl.style.display =\n",
              "          google.colab.kernel.accessAllowed ? 'block' : 'none';\n",
              "\n",
              "        async function convertToInteractive(key) {\n",
              "          const element = document.querySelector('#df-0a5f39d0-6fce-4192-9354-b69d22f87925');\n",
              "          const dataTable =\n",
              "            await google.colab.kernel.invokeFunction('convertToInteractive',\n",
              "                                                     [key], {});\n",
              "          if (!dataTable) return;\n",
              "\n",
              "          const docLinkHtml = 'Like what you see? Visit the ' +\n",
              "            '<a target=\"_blank\" href=https://colab.research.google.com/notebooks/data_table.ipynb>data table notebook</a>'\n",
              "            + ' to learn more about interactive tables.';\n",
              "          element.innerHTML = '';\n",
              "          dataTable['output_type'] = 'display_data';\n",
              "          await google.colab.output.renderOutput(dataTable, element);\n",
              "          const docLink = document.createElement('div');\n",
              "          docLink.innerHTML = docLinkHtml;\n",
              "          element.appendChild(docLink);\n",
              "        }\n",
              "      </script>\n",
              "    </div>\n",
              "  </div>\n",
              "  "
            ]
          },
          "metadata": {},
          "execution_count": 67
        }
      ]
    },
    {
      "cell_type": "markdown",
      "metadata": {
        "id": "EcDqgeZsD4HK"
      },
      "source": [
        "# Fazer o undersampling"
      ]
    },
    {
      "cell_type": "code",
      "execution_count": null,
      "metadata": {
        "id": "j5HNa9qaEF-h"
      },
      "outputs": [],
      "source": [
        "from imblearn.under_sampling import RandomUnderSampler\n",
        "\n",
        "rus = RandomUnderSampler(random_state=0)\n",
        "x_train, y_train = rus.fit_resample(x_train, y_train)"
      ]
    },
    {
      "cell_type": "code",
      "execution_count": null,
      "metadata": {
        "colab": {
          "base_uri": "https://localhost:8080/"
        },
        "id": "sbSQoZf0FS9F",
        "outputId": "1730fff8-ceb5-4a22-bf67-5918a75f6e69"
      },
      "outputs": [
        {
          "output_type": "execute_result",
          "data": {
            "text/plain": [
              "(40042, 19)"
            ]
          },
          "metadata": {},
          "execution_count": 69
        }
      ],
      "source": [
        "x_train.shape"
      ]
    },
    {
      "cell_type": "code",
      "execution_count": null,
      "metadata": {
        "colab": {
          "base_uri": "https://localhost:8080/"
        },
        "id": "NAthhiwgFYOC",
        "outputId": "69dd930c-4153-4f26-dbd0-9f27dffe89b9"
      },
      "outputs": [
        {
          "output_type": "execute_result",
          "data": {
            "text/plain": [
              "(40042, 1)"
            ]
          },
          "metadata": {},
          "execution_count": 70
        }
      ],
      "source": [
        "y_train.shape"
      ]
    },
    {
      "cell_type": "markdown",
      "metadata": {
        "id": "NzttdZ_27JFU"
      },
      "source": [
        "# Treinar e avaliar os modelos"
      ]
    },
    {
      "cell_type": "markdown",
      "metadata": {
        "id": "-jA8NjIwXkKk"
      },
      "source": [
        "## Regressão Logística"
      ]
    },
    {
      "cell_type": "markdown",
      "metadata": {
        "id": "LTOadnYe7Ylb"
      },
      "source": [
        "### Treinar"
      ]
    },
    {
      "cell_type": "code",
      "execution_count": null,
      "metadata": {
        "colab": {
          "base_uri": "https://localhost:8080/"
        },
        "id": "Lu1Eg1Us7QV7",
        "outputId": "9f9f1769-acee-4982-dd74-0607fb3d902b"
      },
      "outputs": [
        {
          "output_type": "stream",
          "name": "stderr",
          "text": [
            "/usr/local/lib/python3.7/dist-packages/sklearn/utils/validation.py:993: DataConversionWarning: A column-vector y was passed when a 1d array was expected. Please change the shape of y to (n_samples, ), for example using ravel().\n",
            "  y = column_or_1d(y, warn=True)\n"
          ]
        }
      ],
      "source": [
        "from sklearn.linear_model import LogisticRegression\n",
        "\n",
        "# Criando o modelo\n",
        "model = LogisticRegression()\n",
        "model.fit(x_train, y_train)\n",
        "\n",
        "# Predizendo\n",
        "y_pred = model.predict(x_test)"
      ]
    },
    {
      "cell_type": "markdown",
      "metadata": {
        "id": "Trw_AYyl7UDS"
      },
      "source": [
        "### Avaliar"
      ]
    },
    {
      "cell_type": "code",
      "execution_count": null,
      "metadata": {
        "colab": {
          "base_uri": "https://localhost:8080/",
          "height": 595
        },
        "id": "QXBFJHTDcM7O",
        "outputId": "c3e74072-ffa5-43d9-fb3f-1fa4c6a1dba5"
      },
      "outputs": [
        {
          "output_type": "stream",
          "name": "stdout",
          "text": [
            "Feature: LEVEL_NAME, Score: -0.43360\n",
            "Feature: AUTO_ACCEPT, Score: -0.15422\n",
            "Feature: ACCEPTANCE_RATE, Score: 0.25361\n",
            "Feature: ORDERS_DONE, Score: -0.16751\n",
            "Feature: ORDERS_LAST_30D_COUNT, Score: 0.23513\n",
            "Feature: ORDERS_CANCEL, Score: -3.14812\n",
            "Feature: ORDERS_CANCELED_LAST_30D_COUNT, Score: -1.05076\n",
            "Feature: FIRST_ORDER_DATE, Score: 0.53569\n",
            "Feature: LAST_ORDER_DATE, Score: 0.24266\n",
            "Feature: EARNINGS, Score: 1.34109\n",
            "Feature: TIPS, Score: -0.16864\n",
            "Feature: PUNISHMENT_MINUTES, Score: -1.70584\n",
            "Feature: PRODUCT_RETURNS, Score: 0.03224\n",
            "Feature: SUPPORT_TICKET_COUNT, Score: 0.07748\n",
            "Feature: DEFECTS_COUNT, Score: 0.00612\n",
            "Feature: AVG_DISTANCE_TO_USER, Score: -0.07775\n",
            "Feature: TRANSPORT_bicycle, Score: -0.03013\n",
            "Feature: TRANSPORT_car, Score: 0.02295\n",
            "Feature: TRANSPORT_motorbike, Score: -0.00215\n"
          ]
        },
        {
          "output_type": "display_data",
          "data": {
            "text/plain": [
              "<Figure size 432x288 with 1 Axes>"
            ],
            "image/png": "[encoded data removed]"
          },
          "metadata": {
            "needs_background": "light"
          }
        }
      ],
      "source": [
        "import matplotlib.pyplot as plt\n",
        "\n",
        "# Avaliar a importância das features\n",
        "importance = model.coef_[0]\n",
        "# summarize feature importance\n",
        "for i,v in enumerate(importance):\n",
        "\tprint('Feature: %s, Score: %.5f' % (df_infos.columns.values[i + 2],v))\n",
        "# plot feature importance\n",
        "plt.bar([x for x in range(len(importance))], importance)\n",
        "plt.show()"
      ]
    },
    {
      "cell_type": "code",
      "execution_count": null,
      "metadata": {
        "id": "9uKf9eICXlf_"
      },
      "outputs": [],
      "source": [
        "from sklearn.metrics import accuracy_score, mean_squared_error, mean_absolute_error, r2_score, recall_score, precision_score, f1_score"
      ]
    },
    {
      "cell_type": "code",
      "execution_count": null,
      "metadata": {
        "colab": {
          "base_uri": "https://localhost:8080/"
        },
        "id": "ZOdW-wx-ZErm",
        "outputId": "b032e35a-b9ec-409f-c884-13cd43a069e2"
      },
      "outputs": [
        {
          "output_type": "execute_result",
          "data": {
            "text/plain": [
              "0.8906997638897595"
            ]
          },
          "metadata": {},
          "execution_count": 14
        }
      ],
      "source": [
        "accuracy_score(y_test, y_pred)"
      ]
    },
    {
      "cell_type": "code",
      "execution_count": null,
      "metadata": {
        "colab": {
          "base_uri": "https://localhost:8080/"
        },
        "id": "MI-vFVP7Xomq",
        "outputId": "66ca24b4-aeb9-49e4-ce00-fabd6537d7a3"
      },
      "outputs": [
        {
          "output_type": "execute_result",
          "data": {
            "text/plain": [
              "0.10930023611024049"
            ]
          },
          "metadata": {},
          "execution_count": 15
        }
      ],
      "source": [
        "mean_squared_error(y_test, y_pred)"
      ]
    },
    {
      "cell_type": "code",
      "execution_count": null,
      "metadata": {
        "colab": {
          "base_uri": "https://localhost:8080/"
        },
        "id": "6L9TpCwbXp0P",
        "outputId": "aec3acb2-14d7-412a-b016-f10371d86c79"
      },
      "outputs": [
        {
          "output_type": "execute_result",
          "data": {
            "text/plain": [
              "0.10930023611024049"
            ]
          },
          "metadata": {},
          "execution_count": 16
        }
      ],
      "source": [
        "mean_absolute_error(y_test, y_pred)"
      ]
    },
    {
      "cell_type": "code",
      "execution_count": null,
      "metadata": {
        "colab": {
          "base_uri": "https://localhost:8080/"
        },
        "id": "5aHzuDTPXq5-",
        "outputId": "c1521bd5-cd96-441e-fadc-0453c5b52cdd"
      },
      "outputs": [
        {
          "output_type": "execute_result",
          "data": {
            "text/plain": [
              "0.24835031867550006"
            ]
          },
          "metadata": {},
          "execution_count": 17
        }
      ],
      "source": [
        "r2_score(y_test, y_pred)"
      ]
    },
    {
      "cell_type": "markdown",
      "metadata": {
        "id": "Ip1CrsIx7m7w"
      },
      "source": [
        "## XGBoost"
      ]
    },
    {
      "cell_type": "markdown",
      "metadata": {
        "id": "JvDFt6zu8Fsp"
      },
      "source": [
        "### Treinar"
      ]
    },
    {
      "cell_type": "code",
      "execution_count": null,
      "metadata": {
        "colab": {
          "base_uri": "https://localhost:8080/"
        },
        "id": "GQsKQH_28GF_",
        "outputId": "9ed14d2b-ea6d-4c51-bd39-e8bdae3ea81a"
      },
      "outputs": [
        {
          "output_type": "stream",
          "name": "stderr",
          "text": [
            "/usr/local/lib/python3.7/dist-packages/sklearn/ensemble/_gb.py:494: DataConversionWarning: A column-vector y was passed when a 1d array was expected. Please change the shape of y to (n_samples, ), for example using ravel().\n",
            "  y = column_or_1d(y, warn=True)\n"
          ]
        }
      ],
      "source": [
        "from sklearn.ensemble import GradientBoostingClassifier\n",
        "\n",
        "#Criando modelo\n",
        "xgb = GradientBoostingClassifier()\n",
        "\n",
        "#Treinando modelo\n",
        "xgb.fit(x_train, y_train)\n",
        "y_pred = xgb.predict(x_test)"
      ]
    },
    {
      "cell_type": "markdown",
      "metadata": {
        "id": "Hf1mK0Ah8IZw"
      },
      "source": [
        "### Avaliar"
      ]
    },
    {
      "cell_type": "code",
      "execution_count": null,
      "metadata": {
        "colab": {
          "base_uri": "https://localhost:8080/"
        },
        "id": "PGBP4Wpkueew",
        "outputId": "14345264-7af2-4494-dd85-e6f1a1ac2ba1"
      },
      "outputs": [
        {
          "output_type": "stream",
          "name": "stdout",
          "text": [
            "Acc treino 0.8877428699865142\n",
            "Acc teste 0.909797530245095\n"
          ]
        }
      ],
      "source": [
        "print('Acc treino', xgb.score(x_train, y_train))\n",
        "print('Acc teste', xgb.score(x_test, y_test.squeeze()))"
      ]
    },
    {
      "cell_type": "code",
      "execution_count": null,
      "metadata": {
        "colab": {
          "base_uri": "https://localhost:8080/"
        },
        "id": "9EoFj9mc8Jfu",
        "outputId": "dc037f6d-bfd6-4fec-81df-8c962422b56b"
      },
      "outputs": [
        {
          "output_type": "stream",
          "name": "stdout",
          "text": [
            "Revocação 0.9246834318775852\n",
            "Precisão 0.9643008362443104\n",
            "F1 Score 0.9440766889047217\n"
          ]
        }
      ],
      "source": [
        "y_pred = xgb.predict(x_test)\n",
        "print('Revocação', recall_score (y_test, y_pred))\n",
        "print('Precisão', precision_score (y_test, y_pred))\n",
        "print('F1 Score', f1_score (y_test, y_pred))"
      ]
    },
    {
      "cell_type": "code",
      "execution_count": null,
      "metadata": {
        "colab": {
          "base_uri": "https://localhost:8080/",
          "height": 279
        },
        "id": "PhCcdW6WukfK",
        "outputId": "7e507d62-79ae-491e-c8f6-4647aef94066"
      },
      "outputs": [
        {
          "output_type": "display_data",
          "data": {
            "text/plain": [
              "<Figure size 432x288 with 2 Axes>"
            ],
            "image/png": "[encoded data removed]"
          },
          "metadata": {
            "needs_background": "light"
          }
        }
      ],
      "source": [
        "from sklearn.metrics import ConfusionMatrixDisplay\n",
        "from sklearn.metrics import confusion_matrix\n",
        "cm = confusion_matrix(y_test, y_pred, normalize='true')\n",
        "disp = ConfusionMatrixDisplay(confusion_matrix=cm)\n",
        "disp.plot()\n",
        "plt.show()"
      ]
    },
    {
      "cell_type": "markdown",
      "metadata": {
        "id": "IhzBIpPm7tEe"
      },
      "source": [
        "## Light GBM"
      ]
    },
    {
      "cell_type": "markdown",
      "metadata": {
        "id": "HnsTkSjF8Car"
      },
      "source": [
        "### Treinar"
      ]
    },
    {
      "cell_type": "code",
      "execution_count": null,
      "metadata": {
        "colab": {
          "base_uri": "https://localhost:8080/"
        },
        "id": "pPmVgOlV8CFy",
        "outputId": "ef0454f2-777d-4ca4-ea48-e1523f4a739c"
      },
      "outputs": [
        {
          "output_type": "stream",
          "name": "stderr",
          "text": [
            "/usr/local/lib/python3.7/dist-packages/sklearn/preprocessing/_label.py:98: DataConversionWarning: A column-vector y was passed when a 1d array was expected. Please change the shape of y to (n_samples, ), for example using ravel().\n",
            "  y = column_or_1d(y, warn=True)\n",
            "/usr/local/lib/python3.7/dist-packages/sklearn/preprocessing/_label.py:133: DataConversionWarning: A column-vector y was passed when a 1d array was expected. Please change the shape of y to (n_samples, ), for example using ravel().\n",
            "  y = column_or_1d(y, warn=True)\n"
          ]
        }
      ],
      "source": [
        "import lightgbm as lgb\n",
        "\n",
        "# Criando o modelo\n",
        "lgb_model = lgb.LGBMClassifier()\n",
        "lgb_model.fit(x_train, y_train)\n",
        "\n",
        "# Predizendo\n",
        "y_pred = lgb_model.predict(x_test)"
      ]
    },
    {
      "cell_type": "markdown",
      "metadata": {
        "id": "JzKyBTF08D4-"
      },
      "source": [
        "### Avaliar"
      ]
    },
    {
      "cell_type": "code",
      "execution_count": null,
      "metadata": {
        "colab": {
          "base_uri": "https://localhost:8080/"
        },
        "id": "AJZHORsxKjwo",
        "outputId": "0fb6bbce-3ed5-42ef-d309-166a98930706"
      },
      "outputs": [
        {
          "output_type": "stream",
          "name": "stdout",
          "text": [
            "Acc treino:  0.9024274511762649\n",
            "Acc teste:  0.9087736893792181\n"
          ]
        }
      ],
      "source": [
        "print('Acc treino: ', lgb_model.score(x_train, y_train ))\n",
        "print('Acc teste: ', lgb_model.score(x_test, y_test.squeeze() ))"
      ]
    },
    {
      "cell_type": "code",
      "execution_count": null,
      "metadata": {
        "colab": {
          "base_uri": "https://localhost:8080/"
        },
        "id": "VloQOGyeKjfZ",
        "outputId": "36e21743-ae85-449d-d36a-0f894412eb5e"
      },
      "outputs": [
        {
          "output_type": "stream",
          "name": "stdout",
          "text": [
            "Revocação:  0.9205724871215774\n",
            "Precisão:  0.9670514221736465\n",
            "F1_score:  0.9432397295891836\n"
          ]
        }
      ],
      "source": [
        "y_pred = model.predict(x_test)\n",
        "print( 'Revocação: ', recall_score( y_test, y_pred ))\n",
        "print( 'Precisão: ', precision_score( y_test, y_pred ))\n",
        "print( 'F1_score: ', f1_score( y_test, y_pred ))"
      ]
    },
    {
      "cell_type": "code",
      "execution_count": null,
      "metadata": {
        "colab": {
          "base_uri": "https://localhost:8080/",
          "height": 279
        },
        "id": "I3FKZFg8Kj8K",
        "outputId": "09a60286-c62c-4885-b163-1fe6880010cd"
      },
      "outputs": [
        {
          "output_type": "display_data",
          "data": {
            "text/plain": [
              "<Figure size 432x288 with 2 Axes>"
            ],
            "image/png": "[encoded data removed]"
          },
          "metadata": {
            "needs_background": "light"
          }
        }
      ],
      "source": [
        "from sklearn.metrics import ConfusionMatrixDisplay\n",
        "from sklearn.metrics import confusion_matrix\n",
        "\n",
        "cm = confusion_matrix(y_test, y_pred, normalize='true')\n",
        "\n",
        "# versão mais compreensível da matriz confusão\n",
        "disp = ConfusionMatrixDisplay(confusion_matrix=cm)\n",
        "\n",
        "disp.plot()\n",
        "plt.show()"
      ]
    },
    {
      "cell_type": "code",
      "source": [
        "lgb.plot_importance(lgb_model, max_num_features=10)"
      ],
      "metadata": {
        "colab": {
          "base_uri": "https://localhost:8080/",
          "height": 312
        },
        "id": "xYvuNZg1_Pk1",
        "outputId": "534fc0ca-61e2-455b-8564-3f68a9904abf"
      },
      "execution_count": null,
      "outputs": [
        {
          "output_type": "execute_result",
          "data": {
            "text/plain": [
              "<matplotlib.axes._subplots.AxesSubplot at 0x7f79252e5310>"
            ]
          },
          "metadata": {},
          "execution_count": 79
        },
        {
          "output_type": "display_data",
          "data": {
            "text/plain": [
              "<Figure size 432x288 with 1 Axes>"
            ],
            "image/png": "[encoded data removed]"
          },
          "metadata": {
            "needs_background": "light"
          }
        }
      ]
    },
    {
      "cell_type": "markdown",
      "metadata": {
        "id": "ccQtF9pc7tG2"
      },
      "source": [
        "## AdaBoost"
      ]
    },
    {
      "cell_type": "markdown",
      "metadata": {
        "id": "NpVGcP6T78wv"
      },
      "source": [
        "### Treinar"
      ]
    },
    {
      "cell_type": "code",
      "execution_count": null,
      "metadata": {
        "id": "e7aohWB578hU"
      },
      "outputs": [],
      "source": [
        "from sklearn.ensemble import AdaBoostClassifier\n",
        "\n",
        "# Criando o modelo\n",
        "model = AdaBoostClassifier()\n",
        "model.fit(x_train, y_train.squeeze())\n",
        "\n",
        "# Predizendo\n",
        "y_pred = model.predict(x_test)"
      ]
    },
    {
      "cell_type": "markdown",
      "metadata": {
        "id": "Ok2Lduji7-b1"
      },
      "source": [
        "### Avaliar"
      ]
    },
    {
      "cell_type": "code",
      "execution_count": null,
      "metadata": {
        "colab": {
          "base_uri": "https://localhost:8080/"
        },
        "id": "kQOjTelX78P4",
        "outputId": "22cadc23-8947-4cb3-c80d-3c2b16c92485"
      },
      "outputs": [
        {
          "output_type": "stream",
          "name": "stdout",
          "text": [
            "Acc treino:  0.8789770740722241\n",
            "Acc teste:  0.9094632148603189\n"
          ]
        }
      ],
      "source": [
        "print('Acc treino: ', model.score(x_train, y_train ))\n",
        "print('Acc teste: ', model.score(x_test, y_test.squeeze() ))"
      ]
    },
    {
      "cell_type": "code",
      "execution_count": null,
      "metadata": {
        "colab": {
          "base_uri": "https://localhost:8080/"
        },
        "id": "RLjyLyuxcG1L",
        "outputId": "b740076c-260d-47f4-fa51-e6e5036af317"
      },
      "outputs": [
        {
          "output_type": "stream",
          "name": "stdout",
          "text": [
            "Revocação:  0.9267642804577867\n",
            "Precisão:  0.9618889591234724\n",
            "F1_score:  0.9440000000000001\n"
          ]
        }
      ],
      "source": [
        "y_pred = model.predict(x_test)\n",
        "print( 'Revocação: ', recall_score( y_test, y_pred ))\n",
        "print( 'Precisão: ', precision_score( y_test, y_pred ))\n",
        "print( 'F1_score: ', f1_score( y_test, y_pred ))"
      ]
    },
    {
      "cell_type": "code",
      "execution_count": null,
      "metadata": {
        "colab": {
          "base_uri": "https://localhost:8080/",
          "height": 279
        },
        "id": "Fwaoi81Sdke6",
        "outputId": "a95040dd-f199-4cdf-d310-c56fd0041ec5"
      },
      "outputs": [
        {
          "output_type": "display_data",
          "data": {
            "text/plain": [
              "<Figure size 432x288 with 2 Axes>"
            ],
            "image/png": "[encoded data removed]"
          },
          "metadata": {
            "needs_background": "light"
          }
        }
      ],
      "source": [
        "from sklearn.metrics import ConfusionMatrixDisplay\n",
        "from sklearn.metrics import confusion_matrix\n",
        "\n",
        "cm = confusion_matrix(y_test, y_pred, normalize='true')\n",
        "\n",
        "# versão mais compreensível da matriz confusão\n",
        "disp = ConfusionMatrixDisplay(confusion_matrix=cm)\n",
        "\n",
        "disp.plot()\n",
        "plt.show()"
      ]
    },
    {
      "cell_type": "markdown",
      "metadata": {
        "id": "qiACM72F747G"
      },
      "source": [
        "## Random Forest"
      ]
    },
    {
      "cell_type": "markdown",
      "metadata": {
        "id": "RLEOsUFQ8LH8"
      },
      "source": [
        "### Treinar"
      ]
    },
    {
      "cell_type": "code",
      "execution_count": null,
      "metadata": {
        "id": "wpkKC62A8K02"
      },
      "outputs": [],
      "source": [
        "from sklearn.ensemble import RandomForestClassifier\n",
        "\n",
        "# Criando o modelo\n",
        "forest = RandomForestClassifier(max_depth=4)\n",
        "forest.fit(x_train, y_train.squeeze())\n",
        "\n",
        "# Predizendo\n",
        "y_pred = forest.predict(x_test)"
      ]
    },
    {
      "cell_type": "markdown",
      "metadata": {
        "id": "euvJ5jS78MgJ"
      },
      "source": [
        "### Avaliar"
      ]
    },
    {
      "cell_type": "code",
      "execution_count": null,
      "metadata": {
        "colab": {
          "base_uri": "https://localhost:8080/"
        },
        "id": "m17X28Kr74hX",
        "outputId": "f35dc977-a52d-4d6e-dfe9-b87ea00834b0"
      },
      "outputs": [
        {
          "output_type": "stream",
          "name": "stdout",
          "text": [
            "Acc treino:  0.8592977373757554\n",
            "Acc teste:  0.9176748364988822\n"
          ]
        }
      ],
      "source": [
        "print('Acc treino: ', forest.score(x_train, y_train ))\n",
        "print('Acc teste: ', forest.score(x_test, y_test.squeeze() ))"
      ]
    },
    {
      "cell_type": "code",
      "execution_count": null,
      "metadata": {
        "colab": {
          "base_uri": "https://localhost:8080/"
        },
        "id": "N7NpSZvOfaGB",
        "outputId": "5fbcd203-f0ed-4e45-9e76-5082f30e07fe"
      },
      "outputs": [
        {
          "output_type": "stream",
          "name": "stdout",
          "text": [
            "Revocação:  0.9499835054685716\n",
            "Precisão:  0.9523276519969474\n",
            "F1_score:  0.9511541344309361\n"
          ]
        }
      ],
      "source": [
        "y_pred = model.predict(x_test)\n",
        "print( 'Revocação: ', recall_score( y_test, y_pred ))\n",
        "print( 'Precisão: ', precision_score( y_test, y_pred ))\n",
        "print( 'F1_score: ', f1_score( y_test, y_pred ))"
      ]
    },
    {
      "cell_type": "code",
      "execution_count": null,
      "metadata": {
        "colab": {
          "base_uri": "https://localhost:8080/",
          "height": 279
        },
        "id": "xj1MkNlAfcoQ",
        "outputId": "d1c31c09-a681-4b91-f79a-512bcc47fdf6"
      },
      "outputs": [
        {
          "output_type": "display_data",
          "data": {
            "text/plain": [
              "<Figure size 432x288 with 2 Axes>"
            ],
            "image/png": "[encoded data removed]"
          },
          "metadata": {
            "needs_background": "light"
          }
        }
      ],
      "source": [
        "from sklearn.metrics import ConfusionMatrixDisplay\n",
        "from sklearn.metrics import confusion_matrix\n",
        "\n",
        "cm = confusion_matrix(y_test, y_pred, normalize='true')\n",
        "\n",
        "# versão mais compreensível da matriz confusão\n",
        "disp = ConfusionMatrixDisplay(confusion_matrix=cm)\n",
        "\n",
        "disp.plot()\n",
        "plt.show()"
      ]
    },
    {
      "cell_type": "markdown",
      "source": [
        "### Importância das features"
      ],
      "metadata": {
        "id": "353t-IDY-x52"
      }
    },
    {
      "cell_type": "code",
      "execution_count": null,
      "metadata": {
        "id": "o3ETM7VQffQG",
        "colab": {
          "base_uri": "https://localhost:8080/",
          "height": 468
        },
        "outputId": "82b08fe5-af74-4287-fd00-bd1995d4e89d"
      },
      "outputs": [
        {
          "output_type": "display_data",
          "data": {
            "text/plain": [
              "<Figure size 432x288 with 1 Axes>"
            ],
            "image/png": "[encoded data removed]"
          },
          "metadata": {
            "needs_background": "light"
          }
        }
      ],
      "source": [
        "importances = forest.feature_importances_\n",
        "\n",
        "# Ordenar importância das features em ordem descrescente\n",
        "indices = np.argsort(importances)[::-1]\n",
        "\n",
        "# Reorganizar o nome das features para que fiquem de acordo com a ordem de importância\n",
        "names = [X.columns[i] for i in indices]\n",
        "\n",
        "# Criar o objeto do gráfico\n",
        "plt.show()\n",
        "\n",
        "# Criar um título\n",
        "plt.title(\"Importância das Features - Random Forest\")\n",
        "\n",
        "# Adicionar barras\n",
        "plt.bar(range(X.shape[1]), importances[indices])\n",
        "\n",
        "# Adicionar nome das features como rótulos do eixo x\n",
        "plt.xticks(range(X.shape[1]), names, rotation=90)\n",
        "\n",
        "# Mostrar o gráfico\n",
        "plt.show()"
      ]
    }
  ],
  "metadata": {
    "colab": {
      "collapsed_sections": [],
      "provenance": []
    },
    "kernelspec": {
      "display_name": "Python 3",
      "name": "python3"
    },
    "language_info": {
      "name": "python"
    }
  },
  "nbformat": 4,
  "nbformat_minor": 0
}